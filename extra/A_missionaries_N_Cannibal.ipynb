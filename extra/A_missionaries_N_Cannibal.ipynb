{
 "cells": [
  {
   "cell_type": "code",
   "execution_count": 1,
   "id": "2734f226",
   "metadata": {},
   "outputs": [
    {
     "name": "stdout",
     "output_type": "stream",
     "text": [
      "(3, 3, 'left', 0, 0)\n",
      "(2, 2, 'right', 1, 1)\n",
      "(0, 2, 'left', 3, 1)\n",
      "(0, 0, 'right', 3, 3)\n"
     ]
    }
   ],
   "source": [
    "from queue import PriorityQueue\n",
    "\n",
    "\n",
    "def heuristic(state):\n",
    "    m_left, c_left, b_pos, m_right, c_right = state\n",
    "    return (m_left + c_left - 2) // 2 + (m_right + c_right - 2) // 2\n",
    "\n",
    "\n",
    "def is_valid(state):\n",
    "    m_left, c_left, b_pos, m_right, c_right = state\n",
    "    if m_left < 0 or c_left < 0 or m_right < 0 or c_right < 0:\n",
    "        return False\n",
    "    if m_left > 3 or c_left > 3 or m_right > 3 or c_right > 3:\n",
    "        return False\n",
    "    if (c_left > m_left > 0) or (c_right > m_right > 0):\n",
    "        return False\n",
    "    return True\n",
    "\n",
    "\n",
    "def next_states(state):\n",
    "    m_left, c_left, b_pos, m_right, c_right = state\n",
    "    if b_pos == 'left':\n",
    "        moves = [(2, 0), (0, 2), (1, 1), (1, 0), (0, 1)]\n",
    "        next_states = [(m_left-m, c_left-c, 'right', m_right+m, c_right+c) for m, c in moves]\n",
    "    else:\n",
    "        moves = [(-2, 0), (0, -2), (-1, -1), (-1, 0), (0, -1)]\n",
    "        next_states = [(m_left+m, c_left+c, 'left', m_right-m, c_right-c) for m, c in moves]\n",
    "    return [state for state in next_states if is_valid(state)]\n",
    "\n",
    "\n",
    "def a_star(start_state):\n",
    "    frontier = PriorityQueue()\n",
    "    frontier.put((heuristic(start_state), [start_state]))\n",
    "    explored = set()\n",
    "    \n",
    "    while not frontier.empty():\n",
    "        path = frontier.get()[1]\n",
    "        current_state = path[-1]\n",
    "        \n",
    "        if current_state == (0, 0, 'right', 3, 3):\n",
    "            return path\n",
    "        \n",
    "        for next_state in next_states(current_state):\n",
    "            if next_state not in explored:\n",
    "                new_path = path + [next_state]\n",
    "                frontier.put((len(new_path) + heuristic(next_state), new_path))\n",
    "                explored.add(next_state)\n",
    "    \n",
    "    return None\n",
    "\n",
    "\n",
    "path = a_star((3, 3, 'left', 0, 0))\n",
    "\n",
    "\n",
    "for state in path:\n",
    "    print(state)"
   ]
  },
  {
   "cell_type": "code",
   "execution_count": null,
   "id": "50ccc8f4",
   "metadata": {},
   "outputs": [],
   "source": []
  }
 ],
 "metadata": {
  "kernelspec": {
   "display_name": "Python 3 (ipykernel)",
   "language": "python",
   "name": "python3"
  },
  "language_info": {
   "codemirror_mode": {
    "name": "ipython",
    "version": 3
   },
   "file_extension": ".py",
   "mimetype": "text/x-python",
   "name": "python",
   "nbconvert_exporter": "python",
   "pygments_lexer": "ipython3",
   "version": "3.10.12"
  }
 },
 "nbformat": 4,
 "nbformat_minor": 5
}
